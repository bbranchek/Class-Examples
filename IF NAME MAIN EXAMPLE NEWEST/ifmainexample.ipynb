{
 "cells": [
  {
   "cell_type": "raw",
   "metadata": {},
   "source": [
    "# contents of the namemainnoif.py module\n",
    "def addtwo(x,y):\n",
    "    esult = x + y\n",
    "    return result\n",
    "print('The two numbers are added together')  # will print when imported with import which is unwanted"
   ]
  },
  {
   "cell_type": "code",
   "execution_count": 8,
   "metadata": {},
   "outputs": [],
   "source": [
    "import namemainnoifmain"
   ]
  },
  {
   "cell_type": "code",
   "execution_count": 1,
   "metadata": {},
   "outputs": [
    {
     "name": "stdout",
     "output_type": "stream",
     "text": [
      "The two numbers are added together\n"
     ]
    }
   ],
   "source": [
    "# RESTART THE KERNEL OR THE PRINT STATEMENT  WON'T PRINT\n",
    "from namemainnoifmain import addtwo"
   ]
  },
  {
   "cell_type": "code",
   "execution_count": null,
   "metadata": {},
   "outputs": [],
   "source": []
  },
  {
   "cell_type": "code",
   "execution_count": null,
   "metadata": {},
   "outputs": [],
   "source": [
    "## Do not run the following cell - it's a copy of the namemain.py module that's imported"
   ]
  },
  {
   "cell_type": "raw",
   "metadata": {},
   "source": [
    "# contents of namemain\n",
    "def addtwo(x,y):\n",
    "\tresult = x + y\n",
    "\treturn result\n",
    "if __name__ == \"__main__\":\n",
    "    print('The two numbers are added together')"
   ]
  },
  {
   "cell_type": "code",
   "execution_count": 3,
   "metadata": {},
   "outputs": [],
   "source": [
    "import namemain"
   ]
  },
  {
   "cell_type": "code",
   "execution_count": 7,
   "metadata": {},
   "outputs": [],
   "source": [
    "from namemainnoifmain import addtwo"
   ]
  },
  {
   "cell_type": "code",
   "execution_count": null,
   "metadata": {},
   "outputs": [],
   "source": []
  },
  {
   "cell_type": "code",
   "execution_count": null,
   "metadata": {},
   "outputs": [],
   "source": []
  },
  {
   "cell_type": "code",
   "execution_count": null,
   "metadata": {},
   "outputs": [],
   "source": []
  }
 ],
 "metadata": {
  "kernelspec": {
   "display_name": "Python 3 (ipykernel)",
   "language": "python",
   "name": "python3"
  },
  "language_info": {
   "codemirror_mode": {
    "name": "ipython",
    "version": 3
   },
   "file_extension": ".py",
   "mimetype": "text/x-python",
   "name": "python",
   "nbconvert_exporter": "python",
   "pygments_lexer": "ipython3",
   "version": "3.12.7"
  }
 },
 "nbformat": 4,
 "nbformat_minor": 4
}
