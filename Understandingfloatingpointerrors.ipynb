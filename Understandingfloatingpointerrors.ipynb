{
 "cells": [
  {
   "cell_type": "markdown",
   "id": "1d30d4de-7010-4a35-aace-98e96866d936",
   "metadata": {},
   "source": [
    "Programming languages like Python use floating-point representation (typically following the IEEE 754 standard) because it offers a balanced trade-off between performance, memory efficiency, and range. Here’s a deeper look at why this approach is favored over \"exact\" representations:\n",
    "\n",
    "1. Efficiency and Hardware Support\n",
    "Hardware Acceleration: Modern CPUs and GPUs include specialized floating-point units (FPUs) designed to handle floating-point arithmetic at high speeds. This means operations on floats are extremely fast compared to arbitrary-precision arithmetic.\n",
    "\n",
    "Fixed-Size Representation: Floating-point numbers are stored in a fixed amount of memory (usually 32-bit for single precision or 64-bit for double precision). This constant memory footprint simplifies memory allocation and contributes to overall computational efficiency.\n",
    "\n",
    "2. Dynamic Range\n",
    "Wide Range: A floating-point representation can cover a very wide range of values—from extremely small numbers to very large ones. This range is critical for many applications in science and engineering where numbers can vary drastically in size.\n",
    "\n",
    "Compromise on Precision: Although floating-point numbers don't provide exact precision (most decimal fractions are approximated), this compromise allows them to represent a large dynamic range efficiently. For most applications, the level of precision is sufficient even with these approximations.\n",
    "\n",
    "3. Trade-offs Between Precision and Performance\n",
    "Exact Representations are Costly: Representing numbers exactly (e.g., as fractions or using arbitrary-precision arithmetic) typically requires more memory and significantly slower arithmetic operations. This increased cost is often unnecessary for many applications that can tolerate tiny precision errors.\n",
    "\n",
    "Specialized Needs: In cases where exact precision is crucial—like financial calculations—Python offers alternatives such as the decimal.Decimal or fractions.Fraction modules. These options provide exact representations at the cost of performance.\n",
    "\n",
    "4. Standardization and Compatibility\n",
    "IEEE 754 Standard: The IEEE 754 standard for floating-point arithmetic is widely adopted across programming languages and hardware platforms. This standardization ensures consistency, compatibility, and predictable behavior across different systems and programming environments.\n",
    "\n",
    "Interoperability: By using a common standard, Python can interoperate more easily with other languages, libraries, and tools that assume or require IEEE 754 behavior."
   ]
  },
  {
   "cell_type": "markdown",
   "id": "1835997d-b730-4800-b584-d737d90d8b49",
   "metadata": {},
   "source": [
    "Floating-point arithmetic in Python (and in most programming languages) follows the IEEE 754 standard, which means that numbers are represented in binary with a fixed number of bits. This representation introduces several common pitfalls:\n",
    "\n",
    "1. Representation Errors\n",
    "What Happens: Many decimal fractions cannot be represented exactly as binary floating-point numbers. For example, the number 0.1 has no exact binary representation, so it is stored as an approximation."
   ]
  },
  {
   "cell_type": "code",
   "execution_count": null,
   "id": "af0295b9-7b57-4b7d-b273-12570cf643d1",
   "metadata": {},
   "outputs": [],
   "source": [
    "print(0.1)"
   ]
  },
  {
   "cell_type": "code",
   "execution_count": null,
   "id": "750b785b-8487-4aab-96b3-cf062a268538",
   "metadata": {},
   "outputs": [],
   "source": [
    "format(0.1, '.20f')"
   ]
  },
  {
   "cell_type": "markdown",
   "id": "41c7f880-e173-4e7a-a4de-62fe3bbbfc40",
   "metadata": {},
   "source": [
    "2. Equality Comparisons\n",
    "The Issue: Because of representation errors, direct equality comparisons can fail even when two numbers look equivalent."
   ]
  },
  {
   "cell_type": "code",
   "execution_count": null,
   "id": "bdac53bd-d9d9-4dbe-9e11-095fc4eb18cb",
   "metadata": {},
   "outputs": [],
   "source": [
    "0.1 + 0.2"
   ]
  },
  {
   "cell_type": "code",
   "execution_count": null,
   "id": "7f0c60f0-bdeb-42b0-8080-23ff85311049",
   "metadata": {},
   "outputs": [],
   "source": [
    "0.1 + 0.2 == 0.3"
   ]
  },
  {
   "cell_type": "markdown",
   "id": "e4264ae0-a047-4989-a3a7-118cb095174c",
   "metadata": {},
   "source": [
    "Mitigation: Instead of using ==, use a tolerance-based comparison with functions like math.isclose():"
   ]
  },
  {
   "cell_type": "code",
   "execution_count": null,
   "id": "45343b5e-8fc5-4be4-b16c-8e195ab9fbb4",
   "metadata": {},
   "outputs": [],
   "source": [
    "import math\n",
    "math.isclose(0.1 + 0.2, 0.3)  # Returns True"
   ]
  },
  {
   "cell_type": "code",
   "execution_count": null,
   "id": "aea28c2a-ee82-4dc0-b066-218752588e32",
   "metadata": {},
   "outputs": [],
   "source": [
    "#Import math Library\n",
    "import math  \n",
    "\n",
    "#compare the closeness of two values\n",
    "print(math.isclose(8.005, 8.450, abs_tol = 0.4)) # the 3rd argument is the tolerance\n",
    "print(math.isclose(8.005, 8.450, abs_tol = 0.5)) "
   ]
  },
  {
   "cell_type": "markdown",
   "id": "d5cecf80-6d69-4006-a2fb-9da75bf32fb4",
   "metadata": {},
   "source": [
    "https://www.w3schools.com/python/ref_math_isclose.asp"
   ]
  },
  {
   "cell_type": "markdown",
   "id": "53956966-d65e-40b0-8308-dd27e863b03d",
   "metadata": {},
   "source": [
    "3. Rounding Errors\n",
    "   \n",
    "Description: Rounding errors occur when operations produce numbers that cannot be exactly represented and are rounded. \n",
    "Converting these to integers with int() simply truncates the number, which is often not what's intended."
   ]
  },
  {
   "cell_type": "code",
   "execution_count": null,
   "id": "dc4e5721-2e98-4676-8315-6affb1b4e08e",
   "metadata": {},
   "outputs": [],
   "source": [
    "final_salary = int(1299999.9999999999)\n",
    "print(final_salary)  # Outputs: 1299999, not 1300000"
   ]
  },
  {
   "cell_type": "markdown",
   "id": "eb0b8a66-6efa-4e0a-8efa-4a7b79df48a1",
   "metadata": {},
   "source": [
    "Solution: Use the round() function or the Decimal module when correct rounding is essential."
   ]
  },
  {
   "cell_type": "markdown",
   "id": "6cf8a786-81b5-4057-a5b6-3f9b791df6b0",
   "metadata": {},
   "source": [
    "3. Rounding Errors\n",
    "Description: Rounding errors occur when operations produce numbers that cannot be exactly represented and are rounded. Converting these to integers with int() simply truncates the number, which is often not what's intended."
   ]
  },
  {
   "cell_type": "code",
   "execution_count": null,
   "id": "019f7919-f29f-4153-9e6e-5ca95a272125",
   "metadata": {},
   "outputs": [],
   "source": [
    "# Positive float\n",
    "print(int(4.9))  # Output: 4\n",
    "\n",
    "# Negative float\n",
    "print(int(-4.9))  # Output: -4\n"
   ]
  },
  {
   "cell_type": "code",
   "execution_count": null,
   "id": "f11d4187-1933-4fb1-8257-1f39140a2ee9",
   "metadata": {},
   "outputs": [],
   "source": [
    "final_salary = int(1299999.9)\n",
    "print(final_salary)  # Outputs: 1299999, not 130000"
   ]
  },
  {
   "cell_type": "markdown",
   "id": "00971ef7-8999-41a3-bf6e-08dc94b623fd",
   "metadata": {},
   "source": [
    "If you need rounding, you should use the round() function instead, which can round to the nearest integer or specified decimal place"
   ]
  },
  {
   "cell_type": "code",
   "execution_count": null,
   "id": "d9f341f1-1724-4f69-aaab-5ba479cccee6",
   "metadata": {},
   "outputs": [],
   "source": []
  },
  {
   "cell_type": "code",
   "execution_count": null,
   "id": "6f03d3c3-72d6-4795-9abc-3bf7645fd6b4",
   "metadata": {},
   "outputs": [],
   "source": [
    "#Is this an anamoly ?\n",
    "\n",
    "final_salary = int(1299999.9999999999)\n",
    "print(final_salary)  # Outputs: 1299999, not 1300000"
   ]
  },
  {
   "cell_type": "code",
   "execution_count": null,
   "id": "e200dc9b-c1e9-492c-aa0f-08858939482e",
   "metadata": {},
   "outputs": [],
   "source": [
    "# Suppose you end up with a floating-point result\n",
    "value = 1299999.9999999999\n",
    "\n",
    "# Using int() truncates the value:\n",
    "truncated_value = int(value)\n",
    "print(\"Using int():\", truncated_value)\n",
    "# While using round() will round to the nearest integer:\n",
    "rounded_value = round(value)\n",
    "print(\"Using round():\", rounded_value)  # Output: 1300000\n"
   ]
  },
  {
   "cell_type": "markdown",
   "id": "cb947653-2378-41d6-9619-900fef82e529",
   "metadata": {},
   "source": [
    "4. Accumulation of Errors\n",
    "   \n",
    "The Problem: In iterative calculations (e.g., summing a large list of small numbers), the tiny errors introduced at each step can accumulate, leading to significant discrepancies."
   ]
  },
  {
   "cell_type": "code",
   "execution_count": null,
   "id": "081ba5c4-aa68-4032-8fe5-635b8cffab96",
   "metadata": {},
   "outputs": [],
   "source": [
    "total = 0.0\n",
    "for _ in range(1000000):\n",
    "    total += 0.1  # Each addition has a minute error.\n",
    "print(total)  # The result may differ from the expected 100000.0\n"
   ]
  },
  {
   "cell_type": "markdown",
   "id": "657e4717-3b25-4dea-a226-005eedbcba6c",
   "metadata": {},
   "source": [
    "Mitigation: Consider using higher-precision libraries (import decimal) or algorithms that minimize error accumulation."
   ]
  },
  {
   "cell_type": "markdown",
   "id": "7abac03c-ebc0-4ea9-9850-687baa8e7d59",
   "metadata": {},
   "source": [
    "5. Cancellation Errors\n",
    "What Occurs: When subtracting two nearly equal numbers, significant digits cancel out, and the relative error increases."
   ]
  },
  {
   "cell_type": "code",
   "execution_count": null,
   "id": "2c9b7d86-d786-40dc-bb81-5cb2833af602",
   "metadata": {},
   "outputs": [],
   "source": [
    "a = 1.0000001\n",
    "b = 1.0000000\n",
    "result = a - b  # The theoretical result is 0.0000001,\n",
    "                # but due to cancellation, the error might be significant relative to the small magnitude.\n",
    "print(result)\n",
    "print(\"{:.8f}\".format(result))"
   ]
  }
 ],
 "metadata": {
  "kernelspec": {
   "display_name": "Python 3 (ipykernel)",
   "language": "python",
   "name": "python3"
  },
  "language_info": {
   "codemirror_mode": {
    "name": "ipython",
    "version": 3
   },
   "file_extension": ".py",
   "mimetype": "text/x-python",
   "name": "python",
   "nbconvert_exporter": "python",
   "pygments_lexer": "ipython3",
   "version": "3.12.7"
  }
 },
 "nbformat": 4,
 "nbformat_minor": 5
}
