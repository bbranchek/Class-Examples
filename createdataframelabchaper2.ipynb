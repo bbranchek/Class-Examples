{
 "cells": [
  {
   "cell_type": "markdown",
   "metadata": {},
   "source": [
    "# Understanding Dataframe Structure Lab"
   ]
  },
  {
   "cell_type": "markdown",
   "metadata": {},
   "source": [
    "The purpose of the lab is to familarize you with a dataframe by creating it from lists, and then to a series, and finally to a dataframe.  You'll usually create dataframes from pulling in data from files into either an empty dataframe or a dynamically created one into which the data is downloaded.  But this procedure should help you understand the structure of a dataframe."
   ]
  },
  {
   "cell_type": "markdown",
   "metadata": {},
   "source": [
    "Description \n",
    "\n",
    "A DataFrame is a Pandas object that consists of columns and rows\n",
    "\n",
    "Dataframe is a 2D data structure\n",
    "\n",
    "Dataframe is used to represent data in tabular format in rows and columns\n",
    "\n",
    "It is like a spreadsheet or a sql table\n",
    "\n",
    "Data frames are built into the R programming language and its standard library \n",
    "\n",
    "Python makes dataframes available through the pandas library\n",
    "\n",
    "This object provides attributes and methods for working with the data\n",
    "\n",
    "Each column in a DataFrame is a Series object that consists of an array of labeled values, plus attributes and methods for \n",
    "working with the object\n",
    "  \n",
    "The intersection of a column and row in a DataFrame is called an element, and each element can contain a value, which is \n",
    "called a datapoint"
   ]
  },
  {
   "cell_type": "markdown",
   "metadata": {},
   "source": [
    "### Create a simple Pandas Series from a list:"
   ]
  },
  {
   "cell_type": "code",
   "execution_count": 1,
   "metadata": {},
   "outputs": [],
   "source": [
    "# make pandas available\n",
    "import pandas as pd"
   ]
  },
  {
   "cell_type": "code",
   "execution_count": 2,
   "metadata": {},
   "outputs": [],
   "source": [
    "# create a list\n",
    "a = [1,7,2]"
   ]
  },
  {
   "cell_type": "code",
   "execution_count": 3,
   "metadata": {},
   "outputs": [
    {
     "name": "stdout",
     "output_type": "stream",
     "text": [
      "[1, 7, 2]\n"
     ]
    }
   ],
   "source": [
    "# confirm it's a list using a print (displays with square arount the values indicating a list)\n",
    "print(a)"
   ]
  },
  {
   "cell_type": "code",
   "execution_count": 4,
   "metadata": {},
   "outputs": [
    {
     "data": {
      "text/plain": [
       "list"
      ]
     },
     "execution_count": 4,
     "metadata": {},
     "output_type": "execute_result"
    }
   ],
   "source": [
    "type(a)        # type returns the decription list"
   ]
  },
  {
   "cell_type": "markdown",
   "metadata": {},
   "source": [
    "### Series is a one-dimensional array with axis labels"
   ]
  },
  {
   "cell_type": "code",
   "execution_count": 5,
   "metadata": {},
   "outputs": [
    {
     "name": "stdout",
     "output_type": "stream",
     "text": [
      "0    1\n",
      "1    7\n",
      "2    2\n",
      "dtype: int64\n"
     ]
    }
   ],
   "source": [
    "# create a series using pandas .Series metho\n",
    "myvar = pd.Series(a) # creates a series with a single list from the list a\n",
    "#confirm the series contents and that it's a series\n",
    "print(myvar)"
   ]
  },
  {
   "cell_type": "code",
   "execution_count": 6,
   "metadata": {},
   "outputs": [
    {
     "data": {
      "text/plain": [
       "pandas.core.series.Series"
      ]
     },
     "execution_count": 6,
     "metadata": {},
     "output_type": "execute_result"
    }
   ],
   "source": [
    "type(myvar)"
   ]
  },
  {
   "cell_type": "code",
   "execution_count": 7,
   "metadata": {},
   "outputs": [
    {
     "name": "stdout",
     "output_type": "stream",
     "text": [
      "2\n"
     ]
    }
   ],
   "source": [
    "print(myvar[2])"
   ]
  },
  {
   "cell_type": "markdown",
   "metadata": {},
   "source": [
    "### Convert a Series to a Dataframe"
   ]
  },
  {
   "cell_type": "markdown",
   "metadata": {},
   "source": [
    "To convert Pandas Series to a DataFrame, use the to_frame() method of Series. "
   ]
  },
  {
   "cell_type": "code",
   "execution_count": 8,
   "metadata": {},
   "outputs": [],
   "source": [
    "# converting the series into the dataframe\n",
    "dataframe = myvar.to_frame()"
   ]
  },
  {
   "cell_type": "code",
   "execution_count": 9,
   "metadata": {},
   "outputs": [
    {
     "name": "stdout",
     "output_type": "stream",
     "text": [
      "   0\n",
      "0  1\n",
      "1  7\n",
      "2  2\n"
     ]
    }
   ],
   "source": [
    "print(dataframe)"
   ]
  },
  {
   "cell_type": "code",
   "execution_count": null,
   "metadata": {},
   "outputs": [],
   "source": [
    "type(dataframe)"
   ]
  },
  {
   "cell_type": "code",
   "execution_count": null,
   "metadata": {},
   "outputs": [],
   "source": [
    "# display datframe characteristics\n",
    "print(dataframe.info(verbose=True))\n"
   ]
  },
  {
   "cell_type": "markdown",
   "metadata": {},
   "source": [
    "The primary difference between Series and Data Frame is that Series can only contain a single list with a particular index. \n",
    "\n",
    "In contrast, the DataFrame is a combination of more than one Series."
   ]
  },
  {
   "cell_type": "markdown",
   "metadata": {},
   "source": [
    "### To convert Multiple Series to DataFrame"
   ]
  },
  {
   "cell_type": "markdown",
   "metadata": {},
   "source": [
    "Define the multiple Series one by one.\n",
    "\n",
    "Convert the Series to DataFrame using to_frame() function.\n",
    "\n",
    "Merge the different DataFrames to single using Pandas concat() function. "
   ]
  },
  {
   "cell_type": "code",
   "execution_count": 10,
   "metadata": {},
   "outputs": [
    {
     "name": "stdout",
     "output_type": "stream",
     "text": [
      "0    Millie\n",
      "1      Finn\n",
      "2     Sadie\n",
      "3     Gaten\n",
      "4      Noah\n",
      "dtype: object\n",
      "0        Brown\n",
      "1     Wolfhard\n",
      "2         Sink\n",
      "3    Matarazzo\n",
      "4      Schnapp\n",
      "dtype: object\n",
      "0    15\n",
      "1    17\n",
      "2    16\n",
      "3    17\n",
      "4    15\n",
      "dtype: int64\n"
     ]
    }
   ],
   "source": [
    "import pandas as pd\n",
    "\n",
    "first_name = ['Millie','Finn','Sadie','Gaten','Noah']\n",
    "series_first_name = pd.Series(first_name)\n",
    "print (series_first_name)\n",
    "\n",
    "last_name = ['Brown','Wolfhard','Sink','Matarazzo','Schnapp']\n",
    "series_last_name = pd.Series(last_name)\n",
    "print(series_last_name)\n",
    "\n",
    "age = [15, 17, 16, 17, 15]\n",
    "series_age = pd.Series(age)\n",
    "print(series_age)"
   ]
  },
  {
   "cell_type": "code",
   "execution_count": 11,
   "metadata": {},
   "outputs": [
    {
     "name": "stdout",
     "output_type": "stream",
     "text": [
      "  First Name\n",
      "0     Millie\n",
      "1       Finn\n",
      "2      Sadie\n",
      "3      Gaten\n",
      "4       Noah\n",
      "   Last Name\n",
      "0      Brown\n",
      "1   Wolfhard\n",
      "2       Sink\n",
      "3  Matarazzo\n",
      "4    Schnapp\n",
      "   Age\n",
      "0   15\n",
      "1   17\n",
      "2   16\n",
      "3   17\n",
      "4   15\n"
     ]
    }
   ],
   "source": [
    "first_name = ['Millie', 'Finn', 'Sadie', 'Gaten', 'Noah']\n",
    "series_first_name = pd.Series(first_name)\n",
    "df_first_name = pd.DataFrame(series_first_name, columns=['First Name'])\n",
    "print(df_first_name)\n",
    "\n",
    "last_name = ['Brown', 'Wolfhard', 'Sink', 'Matarazzo', 'Schnapp']\n",
    "series_last_name = pd.Series(last_name)\n",
    "df_last_name = pd.DataFrame(series_last_name, columns=['Last Name'])\n",
    "print(df_last_name)\n",
    "\n",
    "age = [15, 17, 16, 17, 15]\n",
    "series_age = pd.Series(age)\n",
    "df_age = pd.DataFrame(series_age, columns=['Age'])\n",
    "print(df_age)"
   ]
  },
  {
   "cell_type": "markdown",
   "metadata": {},
   "source": [
    "To concat Pandas DataFrames, use the Pandas concat() method. \n",
    "\n",
    "The concat() method is used to concatenate the pandas objects along a particular axis with optional set logic, which can be union or intersection along the other axes."
   ]
  },
  {
   "cell_type": "code",
   "execution_count": 12,
   "metadata": {},
   "outputs": [],
   "source": [
    "df = pd.concat([df_first_name, df_last_name, df_age], axis=1)"
   ]
  },
  {
   "cell_type": "code",
   "execution_count": 13,
   "metadata": {},
   "outputs": [
    {
     "data": {
      "text/plain": [
       "pandas.core.frame.DataFrame"
      ]
     },
     "execution_count": 13,
     "metadata": {},
     "output_type": "execute_result"
    }
   ],
   "source": [
    "type(df)"
   ]
  },
  {
   "cell_type": "code",
   "execution_count": 14,
   "metadata": {},
   "outputs": [
    {
     "name": "stdout",
     "output_type": "stream",
     "text": [
      "  First Name  Last Name  Age\n",
      "0     Millie      Brown   15\n",
      "1       Finn   Wolfhard   17\n",
      "2      Sadie       Sink   16\n",
      "3      Gaten  Matarazzo   17\n",
      "4       Noah    Schnapp   15\n"
     ]
    }
   ],
   "source": [
    "print(df)"
   ]
  },
  {
   "cell_type": "code",
   "execution_count": null,
   "metadata": {},
   "outputs": [],
   "source": [
    "The following links provide additional information and exercises for dataframes."
   ]
  },
  {
   "cell_type": "markdown",
   "metadata": {},
   "source": [
    "https://www.w3schools.com/datascience/ds_python_dataframe.asp\n",
    "https://www.w3schools.com/python/pandas/pandas_series.asp\n",
    "https://appdividend.com/2020/05/26/pandas-series-to_frame-convert-series-to-dataframe/#:~:text=How%20to%20convert%20Multiple%20Series%20to%20DataFrame%201,%28%29%20method.%20...%203%20Concat%20all%20three%20DataFrames\n",
    "https://www.datasciencemadesimple.com/create-series-in-python-pandas/\n",
    "https://pandas.pydata.org/docs/pandas.pdf"
   ]
  }
 ],
 "metadata": {
  "kernelspec": {
   "display_name": "Python 3",
   "language": "python",
   "name": "python3"
  },
  "language_info": {
   "codemirror_mode": {
    "name": "ipython",
    "version": 3
   },
   "file_extension": ".py",
   "mimetype": "text/x-python",
   "name": "python",
   "nbconvert_exporter": "python",
   "pygments_lexer": "ipython3",
   "version": "3.8.3"
  }
 },
 "nbformat": 4,
 "nbformat_minor": 5
}
