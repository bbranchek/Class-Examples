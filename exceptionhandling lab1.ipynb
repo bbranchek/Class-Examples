{
 "cells": [
  {
   "cell_type": "markdown",
   "metadata": {},
   "source": [
    "Lab Exercise: Exception Handling in Python\n",
    "\n",
    "Objective\n",
    "\n",
    "Create a Python program that:\n",
    "\n",
    "1.\tAllows the user to input a value.\n",
    "2.\tTraps for two specific exceptions (ValueError and ZeroDivisionError).\n",
    "3.\tAllows the user to try again without the program aborting.\n",
    "4.\tHandles any other exceptions and shows the usual exception message.\n",
    "\n",
    "Instructions\n",
    "\n",
    "1.\tCreate a new Python file: Name the file exception_handling_lab.py.\n",
    "2.\tDefine the main function:\n",
    "\n",
    "o\tThis function should contain a loop that allows the user to input a value and attempts to perform a specific operation.\n",
    "o\tThe loop should continue until the user enters a valid input.\n",
    "\n",
    "3.\tException Handling:\n",
    "\n",
    "o\tUse try-except blocks to trap for the following exceptions:\n",
    "\tValueError: Raised when the user inputs a non-numeric value.\n",
    "\tZeroDivisionError: Raised when attempting to divide by zero.\n",
    "\tAny other exceptions should be handled and display the usual exception message.\n",
    "\n",
    "4.\tAsk the user to input a new value: Prompt the user to input a new value and try the operation again until a valid input is provided.\n",
    "\n",
    "5.\tPrint the result: Once a valid input is provided and no exceptions occur, print the result of the operation.\n"
   ]
  },
  {
   "cell_type": "markdown",
   "metadata": {},
   "source": [
    "Testing\n",
    "1.\tTest with non-numeric input: Ensure that the program traps the ValueError and prompts the user to enter a valid integer.\n",
    "\n",
    "2.\tTest with zero input: Ensure that the program traps the ZeroDivisionError and prompts the user to enter a non-zero integer.\n",
    "\n",
    "3.\tTest with valid input: Ensure that the program prints the result of the division operation.\n",
    "\n",
    "4.\tTest with other exceptions: Ensure that the program handles any other exceptions and displays the usual exception message.\n"
   ]
  },
  {
   "cell_type": "markdown",
   "metadata": {},
   "source": [
    "## Solution"
   ]
  },
  {
   "cell_type": "code",
   "execution_count": 1,
   "metadata": {},
   "outputs": [
    {
     "name": "stdout",
     "output_type": "stream",
     "text": [
      "Enter a number: 3\n",
      "An unexpected error occurred: list index out of range\n"
     ]
    }
   ],
   "source": [
    "def main():\n",
    "    while True:\n",
    "        try:\n",
    "            # Ask the user to input a number\n",
    "            user_input = input(\"Enter a number: \")\n",
    "            number = int(user_input)\n",
    "            \n",
    "            # Perform an operation (e.g., divide 100 by the input number)\n",
    "            result = 100 / number\n",
    "            \n",
    "            # This is just to create an IndexError for demonstration\n",
    "            my_list = [1, 2, 3]\n",
    "            print(my_list[number])\n",
    "\n",
    "            \n",
    "            # Print the result\n",
    "            print(f\"The result of 100 divided by {number} is: {result}\")\n",
    "            break\n",
    "        \n",
    "        except ValueError:\n",
    "            print(\"Error: Invalid input. Please enter a valid integer.\")\n",
    "        \n",
    "        except ZeroDivisionError:\n",
    "            print(\"Error: Division by zero is not allowed. Please enter a non-zero integer.\")\n",
    "        \n",
    "        except Exception as e:\n",
    "            print(f\"An unexpected error occurred: {e}\")\n",
    "            break\n",
    "\n",
    "if __name__ == \"__main__\":\n",
    "    main()"
   ]
  },
  {
   "cell_type": "code",
   "execution_count": null,
   "metadata": {},
   "outputs": [],
   "source": [
    "main()"
   ]
  },
  {
   "cell_type": "code",
   "execution_count": null,
   "metadata": {},
   "outputs": [],
   "source": []
  }
 ],
 "metadata": {
  "kernelspec": {
   "display_name": "Python 3",
   "language": "python",
   "name": "python3"
  },
  "language_info": {
   "codemirror_mode": {
    "name": "ipython",
    "version": 3
   },
   "file_extension": ".py",
   "mimetype": "text/x-python",
   "name": "python",
   "nbconvert_exporter": "python",
   "pygments_lexer": "ipython3",
   "version": "3.8.3"
  }
 },
 "nbformat": 4,
 "nbformat_minor": 4
}
