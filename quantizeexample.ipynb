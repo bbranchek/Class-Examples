{
 "cells": [
  {
   "cell_type": "code",
   "execution_count": 22,
   "metadata": {},
   "outputs": [
    {
     "data": {
      "text/plain": [
       "2.68"
      ]
     },
     "execution_count": 22,
     "metadata": {},
     "output_type": "execute_result"
    }
   ],
   "source": [
    "# To round to a specific numbers of decimal places you can use round\n",
    "\n",
    "m = 2.67854\n",
    "r = 2\n",
    "\n",
    "round(m, r)\n"
   ]
  },
  {
   "cell_type": "markdown",
   "metadata": {},
   "source": [
    "Why use quantize?"
   ]
  },
  {
   "cell_type": "code",
   "execution_count": 21,
   "metadata": {},
   "outputs": [
    {
     "name": "stdout",
     "output_type": "stream",
     "text": [
      "\n",
      "\n",
      "Decimal a with quantize() method :  2.000000\n",
      "\n",
      "\n",
      "Decimal a with quantize() method :  2.670000\n",
      "\n",
      "\n",
      "Decimal a with quantize() method :  2.678540\n",
      "Decimal b with quantize() method :  0\n"
     ]
    }
   ],
   "source": [
    "# By specifying the target as a decimal number rather than a number of places, you can make two values \n",
    "# match without knowing specifically how many places are in them.\n",
    "\n",
    "\n",
    "\n",
    "# example from:   www.geeksforgeeks.org/python-decimal-quantize-method/\n",
    "#\n",
    "from decimal import *\n",
    "  \n",
    "  \n",
    "# Initializing a decimal value\n",
    "a = Decimal('2')\n",
    "x = Decimal('2.67')\n",
    "y = Decimal('2.67854')\n",
    "  \n",
    "b = Decimal('0.142857')\n",
    "\n",
    "# Quantize will expand or shrink the number(in a varaible in the example) listed before the word qunatize \n",
    "# ( actually a method) to the number of digits present in the number following the word quantize in parenthesis\n",
    "# \n",
    "  \n",
    "  \n",
    "# Using Decimal.quantize() method\n",
    "print (\"\\n\\nDecimal a with quantize() method : \", a.quantize(b))\n",
    "print (\"\\n\\nDecimal a with quantize() method : \", x.quantize(b))\n",
    "print (\"\\n\\nDecimal a with quantize() method : \", y.quantize(b))\n",
    "  \n",
    "print (\"Decimal b with quantize() method : \", b.quantize(a))\n",
    "\n",
    "\n",
    "\n",
    "\n"
   ]
  },
  {
   "cell_type": "code",
   "execution_count": null,
   "metadata": {},
   "outputs": [],
   "source": []
  },
  {
   "cell_type": "code",
   "execution_count": null,
   "metadata": {},
   "outputs": [],
   "source": []
  },
  {
   "cell_type": "code",
   "execution_count": null,
   "metadata": {},
   "outputs": [],
   "source": []
  },
  {
   "cell_type": "code",
   "execution_count": null,
   "metadata": {},
   "outputs": [],
   "source": []
  },
  {
   "cell_type": "code",
   "execution_count": null,
   "metadata": {},
   "outputs": [],
   "source": [
    "import pandas as pd\n",
    ">>> import numpy as np\n",
    ">>> df = pd.DataFrame(np.random.randn(10, 5), columns=['col1','col2','col3','col4','col5'])\n",
    ">>> df"
   ]
  },
  {
   "cell_type": "code",
   "execution_count": null,
   "metadata": {},
   "outputs": [],
   "source": [
    "# https://stackoverflow.com/questions/18834897/is-there-a-more-readable-or-pythonic-way-to-format-a-decimal-to-2-places\n",
    "#\n",
    "from decimal import Decimal\n",
    "num = Decimal('1.0')\n",
    "num.quantize(Decimal(10) ** -2) # seriously?!\n",
    "Decimal('1.00')"
   ]
  },
  {
   "cell_type": "markdown",
   "metadata": {},
   "source": [
    "Is there a better way that doesn't look so esoteric at a glance? 'Quantizing a decimal' sounds like technobabble from an episode of Star Trek!\n",
    "\n",
    "Unless you know exactly what you are doing, expanding the number of significant digits through quantisation is not the way to go; quantisation is the privy of accountancy packages and normally has the aim to round results to fewer significant digits instead.\n",
    "\n",
    "Quantize is used to set the number of places that are actually held internally within the value, before it is converted to a string. As Martijn points out this is usually done to reduce the number of digits via rounding, but it works just as well going the other way. By specifying the target as a decimal number rather than a number of places, you can make two values match without knowing specifically how many places are in them.\n",
    "\n",
    "It looks a little less esoteric if you use a decimal value directly instead of trying to calculate it:"
   ]
  },
  {
   "cell_type": "code",
   "execution_count": null,
   "metadata": {},
   "outputs": [],
   "source": [
    "By specifying the target as a decimal number rather than a number of places, \n",
    "you can make two values match without knowing specifically how many places are in them.\n"
   ]
  },
  {
   "cell_type": "markdown",
   "metadata": {},
   "source": [
    "By specifying the target as a decimal number rather than a number of places, you can make two values match without knowing \n",
    "how many places are in them."
   ]
  },
  {
   "cell_type": "code",
   "execution_count": null,
   "metadata": {},
   "outputs": [],
   "source": [
    "In sugnal processing, quantization is the process of mapping a continuous rage of values into a finire ragne of discrete values."
   ]
  },
  {
   "cell_type": "code",
   "execution_count": null,
   "metadata": {},
   "outputs": [],
   "source": [
    "import numpy as np\n",
    "import matplotlib.pyplot as plt\n",
    "\n",
    "q = 0.5\n",
    "x = np.linspace(0, 10, 1000)\n",
    "y = q * np.round(x/q)\n",
    "plt.plot(x,y)\n"
   ]
  },
  {
   "cell_type": "code",
   "execution_count": null,
   "metadata": {},
   "outputs": [],
   "source": [
    "import numpy as np\n",
    "import matplotlib.pyplot as plt\n",
    "\n",
    "q = 0.5\n",
    "x = np.linspace(0, 10, 1000)\n",
    "y = q * np.round(x/q)\n",
    "y.quantize(q)\n",
    "plt.plot(x,y)\n"
   ]
  },
  {
   "cell_type": "code",
   "execution_count": null,
   "metadata": {},
   "outputs": [],
   "source": [
    "# The quantize() method rounds a number to a fixed exponent. This method is useful for\n",
    "# monetary applications that often round results to a fixed number of places:\n",
    "\n",
    "Decimal('7.32')"
   ]
  },
  {
   "cell_type": "code",
   "execution_count": null,
   "metadata": {},
   "outputs": [],
   "source": [
    "Decimal('7.325').quantize(Decimal('.01'), rounding=ROUND_DOWN)"
   ]
  },
  {
   "cell_type": "code",
   "execution_count": null,
   "metadata": {},
   "outputs": [],
   "source": [
    "Decimal('7.325').quantize(Decimal('1.'), rounding=ROUND_UP)"
   ]
  },
  {
   "cell_type": "code",
   "execution_count": null,
   "metadata": {},
   "outputs": [],
   "source": []
  }
 ],
 "metadata": {
  "kernelspec": {
   "display_name": "Python 3",
   "language": "python",
   "name": "python3"
  },
  "language_info": {
   "codemirror_mode": {
    "name": "ipython",
    "version": 3
   },
   "file_extension": ".py",
   "mimetype": "text/x-python",
   "name": "python",
   "nbconvert_exporter": "python",
   "pygments_lexer": "ipython3",
   "version": "3.8.3"
  }
 },
 "nbformat": 4,
 "nbformat_minor": 4
}
